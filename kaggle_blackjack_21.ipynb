{
 "cells": [
  {
   "cell_type": "markdown",
   "metadata": {
    "collapsed": true,
    "pycharm": {
     "is_executing": false,
     "name": "#%% md\n"
    }
   },
   "source": [
    "## Blackjack Problem\n",
    "In this problem we'll be working with a simplified version of [blackjack](https://en.wikipedia.org/wiki/Blackjack) (aka twenty-one). In this version there is one player (who you'll control) and a dealer. Play proceeds as follows:\n",
    "\n",
    "- The player is dealt two face-up cards. The dealer is dealt one face-up card.\n",
    "- The player may ask to be dealt another card ('hit') as many times as they wish. If the sum of their cards exceeds 21, they lose the round immediately.\n",
    "- The dealer then deals additional cards to himself until either:\n",
    "    - the sum of the dealer's cards exceeds 21, in which case the player wins the round\n",
    "    - the sum of the dealer's cards is greater than or equal to 17. If the player's total is greater than the dealer's, the player wins. Otherwise, the dealer wins (even in case of a tie).\n",
    "    \n",
    "When calculating the sum of cards, Jack, Queen, and King count for 10. Aces can count as 1 or 11 (when referring to a player's 'total' above, we mean the largest total that can be made without exceeding 21. So e.g. A+8 = 19, A+8+8 = 17)\n",
    "\n",
    "For this problem, you'll write a function representing the player's decision-making strategy in this game. We've provided a very unintelligent implementation below:"
   ]
  },
  {
   "cell_type": "code",
   "execution_count": 9,
   "outputs": [],
   "source": [
    "import numpy as np\n",
    "import itertools, random"
   ],
   "metadata": {
    "collapsed": false,
    "pycharm": {
     "name": "#%%\n",
     "is_executing": false
    }
   }
  },
  {
   "cell_type": "code",
   "execution_count": 10,
   "outputs": [],
   "source": [
    "class Dealer:\n",
    "    def __init__(self):\n",
    "        self.name = 'Dealer'\n",
    "        self.deck = list(itertools.product(range(1,14),['Spade','Heart','Diamond','Club']))\n",
    "        self.cards, self.nhigh_aces, self.nlow_aces,  self.total_points = [], 0, 0, 0\n",
    "        self.rank = []\n",
    "        self.score, self.n1st = 0, 0\n",
    "    \n",
    "    def new_game(self, players):\n",
    "        if type(players) != list:\n",
    "            list_players = [players, ]\n",
    "        else:\n",
    "            list_players = players\n",
    "        for player in list_players:\n",
    "            if not callable(getattr(player, 'new_game', None)) or not hasattr(player, 'cards'):\n",
    "                return 1\n",
    "            player.new_game()\n",
    "        \n",
    "        self._reset_status()\n",
    "        self.shuffle_deck()\n",
    "        err = 0\n",
    "        for player in list_players:\n",
    "            for i in range(2):\n",
    "                self.deal(player)\n",
    "            err = Dealer.count_total_points(player)\n",
    "        for i in range(2):\n",
    "            self.deal()\n",
    "        err += Dealer.count_total_points(self)\n",
    "        return 1 if err > 0 else 0\n",
    "        \n",
    "    \n",
    "    def _reset_status(self):\n",
    "        self.deck = list(itertools.product(range(1,14),['Spade','Heart','Diamond','Club']))\n",
    "        self.cards, self.nhigh_aces, self.nlow_aces,  self.total_points = [], 0, 0, 0\n",
    "        self.rank = []\n",
    "    \n",
    "    def shuffle_deck(self):\n",
    "        # shuffle the cards\n",
    "        if not self.cards:\n",
    "            random.shuffle(self.deck)\n",
    "    \n",
    "    def deal(self, to_whom=None):\n",
    "        # deal one card at a time\n",
    "        if hasattr(to_whom, 'cards'):\n",
    "            to_whom.cards.append(self.deck.pop(0))\n",
    "        else:\n",
    "            self.cards.append(self.deck.pop(0))\n",
    "    \n",
    "    @staticmethod\n",
    "    def count_total_points(__o):\n",
    "        if not hasattr(__o, 'nhigh_aces') or not hasattr(__o, 'nlow_aces') or not hasattr(__o, 'total_points'):\n",
    "            return 1\n",
    "        point_list = [c[0] if c[0] < 10 else 10 for c in __o.cards]\n",
    "        other_cards = [p for p in point_list if p > 1]\n",
    "        naces = len(point_list) - len(other_cards)\n",
    "        if naces <= 0:\n",
    "            __o.nhigh_aces = 0\n",
    "            __o.nlow_aces = 0\n",
    "            __o.total_points = np.sum(other_cards)\n",
    "        else:\n",
    "            __o.nhigh_aces = 1 if np.sum(other_cards) + naces + 10 <= 21 else 0\n",
    "            __o.nlow_aces = naces - __o.nhigh_aces\n",
    "            __o.total_points = np.sum(other_cards) + __o.nlow_aces + __o.nhigh_aces * 11\n",
    "        \n",
    "        return 0\n",
    "    \n",
    "    def should_hit(self):\n",
    "        # if the dealer should hit the next card, return true\n",
    "        Dealer.count_total_points(self)\n",
    "        if self.total_points >= 17:\n",
    "            return False\n",
    "        else:\n",
    "            return True\n",
    "    \n",
    "    def gaming(self, players):\n",
    "        if type(players) != list:\n",
    "            list_players = [players, ]\n",
    "        else:\n",
    "            list_players = players\n",
    "        for player in list_players:\n",
    "            if not callable(getattr(player, 'should_hit', None)) or not hasattr(player, 'name') \\\n",
    "                    or not hasattr(player, 'total_points') or not hasattr(player, 'score'):\n",
    "                return 1\n",
    "        \n",
    "        players_on = list_players.copy()\n",
    "        for player in list_players:\n",
    "            while player.should_hit(self.total_points):\n",
    "                self.deal(player)\n",
    "            if player.total_points > 21:\n",
    "                self.rank.append(tuple(['Loser', player.name]))\n",
    "                players_on.remove(player)\n",
    "        if not players_on:\n",
    "            self.rank.insert(0, tuple([1, self.name]))\n",
    "            self.score += len(list_players)\n",
    "            self.n1st += 1\n",
    "        else:\n",
    "            while self.should_hit():\n",
    "                self.deal()\n",
    "            if self.total_points > 21:\n",
    "                self.rank.append(tuple(['Loser', self.name]))\n",
    "            else:\n",
    "                players_on.append(self)\n",
    "            players_on = sorted(players_on, key=lambda x: x.total_points, reverse=True)\n",
    "            for i in range(len(players_on)):\n",
    "                if i > 0 and players_on[i].name == self.name:\n",
    "                    if players_on[i].total_points < players_on[i-1].total_points:\n",
    "                        break\n",
    "                    for j in range(i-1, -1, -1):\n",
    "                        if players_on[i].total_points < players_on[j].total_points:\n",
    "                            j += 1\n",
    "                            break\n",
    "                    popped = players_on.pop(i)\n",
    "                    players_on.insert(j, popped)\n",
    "            for i in range(len(players_on)):\n",
    "                if i > 0 and players_on[i].total_points == players_on[i-1].total_points \\\n",
    "                        and players_on[i-1].name != self.name:\n",
    "                    self.rank.insert(i, tuple([self.rank[i-1][0], players_on[i].name]))\n",
    "                    players_on[i].score += len(list_players) - self.rank[i-1][0] + 1\n",
    "                    if self.rank[i-1][0] <= 1:\n",
    "                        players_on[i].n1st += 1\n",
    "                else:\n",
    "                    self.rank.insert(i, tuple([i+1, players_on[i].name]))\n",
    "                    players_on[i].score += len(list_players) - i\n",
    "                    if i <= 0:\n",
    "                        players_on[i].n1st += 1\n",
    "        return 0"
   ],
   "metadata": {
    "collapsed": false,
    "pycharm": {
     "name": "#%%\n",
     "is_executing": false
    }
   }
  },
  {
   "cell_type": "code",
   "execution_count": 11,
   "outputs": [],
   "source": [
    "class Player:\n",
    "    def __init__(self, name):\n",
    "        self.name = str(name)\n",
    "        self.cards, self.nhigh_aces, self.nlow_aces,  self.total_points = [], 0, 0, 0\n",
    "        self.score, self.n1st = 0, 0\n",
    "    \n",
    "    def new_game(self):\n",
    "        self._reset_status()\n",
    "    \n",
    "    def _reset_status(self):\n",
    "        self.cards, self.nhigh_aces, self.nlow_aces,  self.total_points = [], 0, 0, 0\n",
    "\n",
    "    def should_hit(self, dealer_tp):\n",
    "        # if the dealer should hit the next card, return true\n",
    "        Dealer.count_total_points(self)\n",
    "        prob_list = [0.0, (4-self.nhigh_aces-self.nlow_aces)/(52-self.nhigh_aces-self.nlow_aces)] \\\n",
    "                    + [1/13] * 8 + [4/13*4] \\\n",
    "                    + [(4-self.nhigh_aces-self.nlow_aces)/(52-self.nhigh_aces-self.nlow_aces)] \\\n",
    "                    + [0.0] * 9\n",
    "        if self.total_points >= 21:\n",
    "            return False\n",
    "        if dealer_tp >= 17 and self.total_points < 18:\n",
    "            low_points = self.total_points - self.nhigh_aces * 11\n",
    "            prob_win = np.sum([prob_list[int(x - self.total_points)] for x in range(18, 21)])\n",
    "            if prob_win > 0.4:\n",
    "                return True\n",
    "            else:\n",
    "                return False\n",
    "        elif dealer_tp >= 17 and self.total_points >= 18:\n",
    "            return False\n",
    "        elif dealer_tp < 17 and self.total_points > 16:\n",
    "            return False\n",
    "        else:\n",
    "            return True\n",
    "        \n"
   ],
   "metadata": {
    "collapsed": false,
    "pycharm": {
     "name": "#%%\n",
     "is_executing": false
    }
   }
  },
  {
   "cell_type": "code",
   "execution_count": 12,
   "outputs": [],
   "source": [
    "player1 = Player('Tom')\n",
    "players = player1\n",
    "dealer = Dealer()"
   ],
   "metadata": {
    "collapsed": false,
    "pycharm": {
     "name": "#%%\n",
     "is_executing": false
    }
   }
  },
  {
   "cell_type": "code",
   "execution_count": 13,
   "outputs": [],
   "source": [
    "for i in range(10000):\n",
    "    dealer.new_game(players)\n",
    "    dealer.gaming(players)\n",
    "    dealer.rank"
   ],
   "metadata": {
    "collapsed": false,
    "pycharm": {
     "name": "#%%\n",
     "is_executing": false
    }
   }
  },
  {
   "cell_type": "code",
   "execution_count": 14,
   "outputs": [
    {
     "data": {
      "text/plain": "('Tom', 3588, 3588)"
     },
     "metadata": {},
     "output_type": "execute_result",
     "execution_count": 14
    }
   ],
   "source": [
    "player1.name, player1.score, player1.n1st"
   ],
   "metadata": {
    "collapsed": false,
    "pycharm": {
     "name": "#%%\n",
     "is_executing": false
    }
   }
  },
  {
   "cell_type": "code",
   "execution_count": 15,
   "outputs": [],
   "source": [
    "# player2.name, player2.score, player2.n1st"
   ],
   "metadata": {
    "collapsed": false,
    "pycharm": {
     "name": "#%%\n",
     "is_executing": false
    }
   }
  },
  {
   "cell_type": "code",
   "execution_count": 16,
   "outputs": [
    {
     "data": {
      "text/plain": "('Dealer', 6412, 6412)"
     },
     "metadata": {},
     "output_type": "execute_result",
     "execution_count": 16
    }
   ],
   "source": [
    "dealer.name, dealer.score, dealer.n1st\n"
   ],
   "metadata": {
    "collapsed": false,
    "pycharm": {
     "name": "#%%\n",
     "is_executing": false
    }
   }
  }
 ],
 "metadata": {
  "kernelspec": {
   "display_name": "Python 3",
   "language": "python",
   "name": "python3"
  },
  "language_info": {
   "codemirror_mode": {
    "name": "ipython",
    "version": 3
   },
   "file_extension": ".py",
   "mimetype": "text/x-python",
   "name": "python",
   "nbconvert_exporter": "python",
   "pygments_lexer": "ipython3",
   "version": "3.7.4"
  },
  "pycharm": {
   "stem_cell": {
    "cell_type": "raw",
    "source": [],
    "metadata": {
     "collapsed": false
    }
   }
  }
 },
 "nbformat": 4,
 "nbformat_minor": 1
}