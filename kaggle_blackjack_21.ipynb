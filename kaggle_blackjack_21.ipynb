{
 "cells": [
  {
   "cell_type": "markdown",
   "metadata": {
    "collapsed": true,
    "pycharm": {
     "is_executing": false,
     "name": "#%% md\n"
    }
   },
   "source": [
    "## Blackjack Problem\n",
    "In this problem we'll be working with a simplified version of [blackjack](https://en.wikipedia.org/wiki/Blackjack) (aka twenty-one). In this version there is one player (who you'll control) and a dealer. Play proceeds as follows:\n",
    "\n",
    "- The player is dealt two face-up cards. The dealer is dealt one face-up card.\n",
    "- The player may ask to be dealt another card ('hit') as many times as they wish. If the sum of their cards exceeds 21, they lose the round immediately.\n",
    "- The dealer then deals additional cards to himself until either:\n",
    "    - the sum of the dealer's cards exceeds 21, in which case the player wins the round\n",
    "    - the sum of the dealer's cards is greater than or equal to 17. If the player's total is greater than the dealer's, the player wins. Otherwise, the dealer wins (even in case of a tie).\n",
    "    \n",
    "When calculating the sum of cards, Jack, Queen, and King count for 10. Aces can count as 1 or 11 (when referring to a player's \"total\" above, we mean the largest total that can be made without exceeding 21. So e.g. A+8 = 19, A+8+8 = 17)\n",
    "\n",
    "For this problem, you'll write a function representing the player's decision-making strategy in this game. We've provided a very unintelligent implementation below:"
   ]
  },
  {
   "cell_type": "code",
   "execution_count": 4,
   "outputs": [],
   "source": [
    "import numpy as np\n",
    "import itertools, random"
   ],
   "metadata": {
    "collapsed": false,
    "pycharm": {
     "name": "#%%\n",
     "is_executing": false
    }
   }
  },
  {
   "cell_type": "code",
   "execution_count": 21,
   "outputs": [],
   "source": [
    "class Dealer:\n",
    "    def __init__(self):\n",
    "        self.deck = list(itertools.product(range(1,14),['Spade','Heart','Diamond','Club']))\n",
    "        self.cards = []\n",
    "        self.nhigh_aces = 0\n",
    "        self.nlow_aces = 0\n",
    "        self.total_points = 0\n",
    "    \n",
    "    def new_game(self, players):\n",
    "        self.cards = []\n",
    "        self.nhigh_aces = 0\n",
    "        self.nlow_aces = 0\n",
    "        self.total_points = 0\n",
    "        if type(players) == list:\n",
    "            for p in players:\n",
    "                if has\n",
    "        self.shuffle_cards()\n",
    "    \n",
    "    def shuffle_cards(self):\n",
    "        # shuffle the cards\n",
    "        if not self.cards:\n",
    "            random.shuffle(self.deck)\n",
    "    \n",
    "    def deal(self, to_whom=None):\n",
    "        # deal one card at a time\n",
    "        if hasattr(to_whom, 'cards'):\n",
    "            to_whom.cards.append(self.deck.pop(0))\n",
    "        else:\n",
    "            self.cards.append(self.deck.pop(0))\n",
    "    \n",
    "    def count_total_points(self):\n",
    "        point_list = [c[0] if c[0] < 10 else 10 for c in dealer.cards]\n",
    "        other_points = np.sum([p for p in point_list if p > 1])\n",
    "        naces = len(point_list) - len(other_points)\n",
    "        if naces <= 0:\n",
    "            self.nhigh_aces = 0\n",
    "            self.nlow_aces = 0\n",
    "            self.total_points = other_points\n",
    "        else:\n",
    "            self.nhigh_aces = 1 if other_points + naces + 10 <= 21 else 0\n",
    "            self.nlow_aces = naces - self.nhigh_aces\n",
    "            self.total_points = other_points + self.nlow_aces + self.nhigh_aces * 11\n",
    "    \n",
    "    def should_hit(self):\n",
    "        # if the dealer should hit the next card, return true\n",
    "        self.count_total_points()\n",
    "        if self.total_points >= 17:\n",
    "            return False\n",
    "        else:\n",
    "            return True"
   ],
   "metadata": {
    "collapsed": false,
    "pycharm": {
     "name": "#%%\n",
     "is_executing": false
    }
   }
  },
  {
   "cell_type": "code",
   "execution_count": 20,
   "outputs": [
    {
     "data": {
      "text/plain": "17"
     },
     "metadata": {},
     "output_type": "execute_result",
     "execution_count": 20
    }
   ],
   "source": [
    "dealer = Dealer()\n",
    "dealer.shuffle_cards()\n",
    "for i in range(5):\n",
    "    dealer.deal()"
   ],
   "metadata": {
    "collapsed": false,
    "pycharm": {
     "name": "#%%\n",
     "is_executing": false
    }
   }
  }
 ],
 "metadata": {
  "kernelspec": {
   "display_name": "Python 3",
   "language": "python",
   "name": "python3"
  },
  "language_info": {
   "codemirror_mode": {
    "name": "ipython",
    "version": 3
   },
   "file_extension": ".py",
   "mimetype": "text/x-python",
   "name": "python",
   "nbconvert_exporter": "python",
   "pygments_lexer": "ipython3",
   "version": "3.7.4"
  },
  "pycharm": {
   "stem_cell": {
    "cell_type": "raw",
    "source": [],
    "metadata": {
     "collapsed": false
    }
   }
  }
 },
 "nbformat": 4,
 "nbformat_minor": 1
}